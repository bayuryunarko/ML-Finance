{
  "nbformat": 4,
  "nbformat_minor": 0,
  "metadata": {
    "colab": {
      "name": "03MLFinancialAnalysis.ipynb",
      "provenance": [],
      "collapsed_sections": [],
      "authorship_tag": "ABX9TyNIafErfPkgneVt3fJs7GXv",
      "include_colab_link": true
    },
    "kernelspec": {
      "name": "python3",
      "display_name": "Python 3"
    },
    "language_info": {
      "name": "python"
    }
  },
  "cells": [
    {
      "cell_type": "markdown",
      "metadata": {
        "id": "view-in-github",
        "colab_type": "text"
      },
      "source": [
        "<a href=\"https://colab.research.google.com/github/bayuryunarko/ML-in-Financial-Analysis/blob/main/03MLFinancialAnalysis.ipynb\" target=\"_parent\"><img src=\"https://colab.research.google.com/assets/colab-badge.svg\" alt=\"Open In Colab\"/></a>"
      ]
    },
    {
      "cell_type": "markdown",
      "metadata": {
        "id": "FNT38rt90H6Z"
      },
      "source": [
        "# Identifying Outliers"
      ]
    },
    {
      "cell_type": "code",
      "metadata": {
        "id": "07B8uWywIRqB",
        "colab": {
          "base_uri": "https://localhost:8080/"
        },
        "outputId": "2dd593fd-1bc6-4a9d-cc3f-78e19074f97d"
      },
      "source": [
        "pip install yfinance"
      ],
      "execution_count": 1,
      "outputs": [
        {
          "output_type": "stream",
          "text": [
            "Collecting yfinance\n",
            "  Downloading yfinance-0.1.63.tar.gz (26 kB)\n",
            "Requirement already satisfied: pandas>=0.24 in /usr/local/lib/python3.7/dist-packages (from yfinance) (1.1.5)\n",
            "Requirement already satisfied: numpy>=1.15 in /usr/local/lib/python3.7/dist-packages (from yfinance) (1.19.5)\n",
            "Requirement already satisfied: requests>=2.20 in /usr/local/lib/python3.7/dist-packages (from yfinance) (2.23.0)\n",
            "Requirement already satisfied: multitasking>=0.0.7 in /usr/local/lib/python3.7/dist-packages (from yfinance) (0.0.9)\n",
            "Collecting lxml>=4.5.1\n",
            "  Downloading lxml-4.6.3-cp37-cp37m-manylinux2014_x86_64.whl (6.3 MB)\n",
            "\u001b[K     |████████████████████████████████| 6.3 MB 7.4 MB/s \n",
            "\u001b[?25hRequirement already satisfied: pytz>=2017.2 in /usr/local/lib/python3.7/dist-packages (from pandas>=0.24->yfinance) (2018.9)\n",
            "Requirement already satisfied: python-dateutil>=2.7.3 in /usr/local/lib/python3.7/dist-packages (from pandas>=0.24->yfinance) (2.8.1)\n",
            "Requirement already satisfied: six>=1.5 in /usr/local/lib/python3.7/dist-packages (from python-dateutil>=2.7.3->pandas>=0.24->yfinance) (1.15.0)\n",
            "Requirement already satisfied: urllib3!=1.25.0,!=1.25.1,<1.26,>=1.21.1 in /usr/local/lib/python3.7/dist-packages (from requests>=2.20->yfinance) (1.24.3)\n",
            "Requirement already satisfied: chardet<4,>=3.0.2 in /usr/local/lib/python3.7/dist-packages (from requests>=2.20->yfinance) (3.0.4)\n",
            "Requirement already satisfied: idna<3,>=2.5 in /usr/local/lib/python3.7/dist-packages (from requests>=2.20->yfinance) (2.10)\n",
            "Requirement already satisfied: certifi>=2017.4.17 in /usr/local/lib/python3.7/dist-packages (from requests>=2.20->yfinance) (2021.5.30)\n",
            "Building wheels for collected packages: yfinance\n",
            "  Building wheel for yfinance (setup.py) ... \u001b[?25l\u001b[?25hdone\n",
            "  Created wheel for yfinance: filename=yfinance-0.1.63-py2.py3-none-any.whl size=23919 sha256=5a19819df4678bc028649b276bfea43b7593c39be0926d1390958efd90288289\n",
            "  Stored in directory: /root/.cache/pip/wheels/fe/87/8b/7ec24486e001d3926537f5f7801f57a74d181be25b11157983\n",
            "Successfully built yfinance\n",
            "Installing collected packages: lxml, yfinance\n",
            "  Attempting uninstall: lxml\n",
            "    Found existing installation: lxml 4.2.6\n",
            "    Uninstalling lxml-4.2.6:\n",
            "      Successfully uninstalled lxml-4.2.6\n",
            "Successfully installed lxml-4.6.3 yfinance-0.1.63\n"
          ],
          "name": "stdout"
        }
      ]
    },
    {
      "cell_type": "code",
      "metadata": {
        "id": "QlsrseEUHuV9"
      },
      "source": [
        "# import lib\n",
        "import pandas as pd\n",
        "import numpy as np\n",
        "import yfinance as yf\n",
        "import matplotlib.pyplot as plt"
      ],
      "execution_count": 2,
      "outputs": []
    },
    {
      "cell_type": "code",
      "metadata": {
        "id": "15mCm90J0bYe"
      },
      "source": [
        "# download data\n",
        "df = yf.download('AAPL', \n",
        "                       start= '2000-01-01',\n",
        "                       end = '2010-12-31',\n",
        "                       progress= False)\n",
        "\n",
        "df = df.loc[:, ['Adj Close']]\n",
        "df.rename(columns={'Adj Close':'adj_close'}, inplace=True)"
      ],
      "execution_count": 3,
      "outputs": []
    },
    {
      "cell_type": "code",
      "metadata": {
        "id": "sEPgUVinZWBI"
      },
      "source": [
        "# create simple returns\n",
        "df['simple_rtn'] = df.adj_close.pct_change()"
      ],
      "execution_count": 4,
      "outputs": []
    },
    {
      "cell_type": "code",
      "metadata": {
        "colab": {
          "base_uri": "https://localhost:8080/",
          "height": 235
        },
        "id": "_U5v_alm0ts9",
        "outputId": "14e32e6b-de79-489a-816c-02022b224fd6"
      },
      "source": [
        "df.head()"
      ],
      "execution_count": 5,
      "outputs": [
        {
          "output_type": "execute_result",
          "data": {
            "text/html": [
              "<div>\n",
              "<style scoped>\n",
              "    .dataframe tbody tr th:only-of-type {\n",
              "        vertical-align: middle;\n",
              "    }\n",
              "\n",
              "    .dataframe tbody tr th {\n",
              "        vertical-align: top;\n",
              "    }\n",
              "\n",
              "    .dataframe thead th {\n",
              "        text-align: right;\n",
              "    }\n",
              "</style>\n",
              "<table border=\"1\" class=\"dataframe\">\n",
              "  <thead>\n",
              "    <tr style=\"text-align: right;\">\n",
              "      <th></th>\n",
              "      <th>adj_close</th>\n",
              "      <th>simple_rtn</th>\n",
              "    </tr>\n",
              "    <tr>\n",
              "      <th>Date</th>\n",
              "      <th></th>\n",
              "      <th></th>\n",
              "    </tr>\n",
              "  </thead>\n",
              "  <tbody>\n",
              "    <tr>\n",
              "      <th>2000-01-03</th>\n",
              "      <td>0.859423</td>\n",
              "      <td>NaN</td>\n",
              "    </tr>\n",
              "    <tr>\n",
              "      <th>2000-01-04</th>\n",
              "      <td>0.786965</td>\n",
              "      <td>-0.084310</td>\n",
              "    </tr>\n",
              "    <tr>\n",
              "      <th>2000-01-05</th>\n",
              "      <td>0.798481</td>\n",
              "      <td>0.014633</td>\n",
              "    </tr>\n",
              "    <tr>\n",
              "      <th>2000-01-06</th>\n",
              "      <td>0.729382</td>\n",
              "      <td>-0.086538</td>\n",
              "    </tr>\n",
              "    <tr>\n",
              "      <th>2000-01-07</th>\n",
              "      <td>0.763932</td>\n",
              "      <td>0.047369</td>\n",
              "    </tr>\n",
              "  </tbody>\n",
              "</table>\n",
              "</div>"
            ],
            "text/plain": [
              "            adj_close  simple_rtn\n",
              "Date                             \n",
              "2000-01-03   0.859423         NaN\n",
              "2000-01-04   0.786965   -0.084310\n",
              "2000-01-05   0.798481    0.014633\n",
              "2000-01-06   0.729382   -0.086538\n",
              "2000-01-07   0.763932    0.047369"
            ]
          },
          "metadata": {
            "tags": []
          },
          "execution_count": 5
        }
      ]
    },
    {
      "cell_type": "code",
      "metadata": {
        "colab": {
          "base_uri": "https://localhost:8080/",
          "height": 481
        },
        "id": "3M3fk2OT0wRi",
        "outputId": "3d4a70bc-1bdb-4aa6-bb42-3163c6a531da"
      },
      "source": [
        "# calculating the rolling mean and standard deviation\n",
        "df_rolling = df[['simple_rtn']].rolling(window=21).agg(['mean', 'std'])\n",
        "df_rolling"
      ],
      "execution_count": 6,
      "outputs": [
        {
          "output_type": "execute_result",
          "data": {
            "text/html": [
              "<div>\n",
              "<style scoped>\n",
              "    .dataframe tbody tr th:only-of-type {\n",
              "        vertical-align: middle;\n",
              "    }\n",
              "\n",
              "    .dataframe tbody tr th {\n",
              "        vertical-align: top;\n",
              "    }\n",
              "\n",
              "    .dataframe thead tr th {\n",
              "        text-align: left;\n",
              "    }\n",
              "\n",
              "    .dataframe thead tr:last-of-type th {\n",
              "        text-align: right;\n",
              "    }\n",
              "</style>\n",
              "<table border=\"1\" class=\"dataframe\">\n",
              "  <thead>\n",
              "    <tr>\n",
              "      <th></th>\n",
              "      <th colspan=\"2\" halign=\"left\">simple_rtn</th>\n",
              "    </tr>\n",
              "    <tr>\n",
              "      <th></th>\n",
              "      <th>mean</th>\n",
              "      <th>std</th>\n",
              "    </tr>\n",
              "    <tr>\n",
              "      <th>Date</th>\n",
              "      <th></th>\n",
              "      <th></th>\n",
              "    </tr>\n",
              "  </thead>\n",
              "  <tbody>\n",
              "    <tr>\n",
              "      <th>2000-01-03</th>\n",
              "      <td>NaN</td>\n",
              "      <td>NaN</td>\n",
              "    </tr>\n",
              "    <tr>\n",
              "      <th>2000-01-04</th>\n",
              "      <td>NaN</td>\n",
              "      <td>NaN</td>\n",
              "    </tr>\n",
              "    <tr>\n",
              "      <th>2000-01-05</th>\n",
              "      <td>NaN</td>\n",
              "      <td>NaN</td>\n",
              "    </tr>\n",
              "    <tr>\n",
              "      <th>2000-01-06</th>\n",
              "      <td>NaN</td>\n",
              "      <td>NaN</td>\n",
              "    </tr>\n",
              "    <tr>\n",
              "      <th>2000-01-07</th>\n",
              "      <td>NaN</td>\n",
              "      <td>NaN</td>\n",
              "    </tr>\n",
              "    <tr>\n",
              "      <th>...</th>\n",
              "      <td>...</td>\n",
              "      <td>...</td>\n",
              "    </tr>\n",
              "    <tr>\n",
              "      <th>2010-12-23</th>\n",
              "      <td>0.002274</td>\n",
              "      <td>0.008078</td>\n",
              "    </tr>\n",
              "    <tr>\n",
              "      <th>2010-12-27</th>\n",
              "      <td>0.001496</td>\n",
              "      <td>0.007040</td>\n",
              "    </tr>\n",
              "    <tr>\n",
              "      <th>2010-12-28</th>\n",
              "      <td>0.001582</td>\n",
              "      <td>0.007040</td>\n",
              "    </tr>\n",
              "    <tr>\n",
              "      <th>2010-12-29</th>\n",
              "      <td>0.001273</td>\n",
              "      <td>0.006982</td>\n",
              "    </tr>\n",
              "    <tr>\n",
              "      <th>2010-12-30</th>\n",
              "      <td>0.001894</td>\n",
              "      <td>0.005625</td>\n",
              "    </tr>\n",
              "  </tbody>\n",
              "</table>\n",
              "<p>2766 rows × 2 columns</p>\n",
              "</div>"
            ],
            "text/plain": [
              "           simple_rtn          \n",
              "                 mean       std\n",
              "Date                           \n",
              "2000-01-03        NaN       NaN\n",
              "2000-01-04        NaN       NaN\n",
              "2000-01-05        NaN       NaN\n",
              "2000-01-06        NaN       NaN\n",
              "2000-01-07        NaN       NaN\n",
              "...               ...       ...\n",
              "2010-12-23   0.002274  0.008078\n",
              "2010-12-27   0.001496  0.007040\n",
              "2010-12-28   0.001582  0.007040\n",
              "2010-12-29   0.001273  0.006982\n",
              "2010-12-30   0.001894  0.005625\n",
              "\n",
              "[2766 rows x 2 columns]"
            ]
          },
          "metadata": {
            "tags": []
          },
          "execution_count": 6
        }
      ]
    },
    {
      "cell_type": "code",
      "metadata": {
        "id": "AUS1_-eZ1NYh"
      },
      "source": [
        "df_rolling.columns = df_rolling.columns.droplevel()"
      ],
      "execution_count": 7,
      "outputs": []
    },
    {
      "cell_type": "code",
      "metadata": {
        "colab": {
          "base_uri": "https://localhost:8080/",
          "height": 450
        },
        "id": "WjhHegxC1XcN",
        "outputId": "abb49d75-2e3b-4f93-8557-d88d4e842c10"
      },
      "source": [
        "df_rolling"
      ],
      "execution_count": 8,
      "outputs": [
        {
          "output_type": "execute_result",
          "data": {
            "text/html": [
              "<div>\n",
              "<style scoped>\n",
              "    .dataframe tbody tr th:only-of-type {\n",
              "        vertical-align: middle;\n",
              "    }\n",
              "\n",
              "    .dataframe tbody tr th {\n",
              "        vertical-align: top;\n",
              "    }\n",
              "\n",
              "    .dataframe thead th {\n",
              "        text-align: right;\n",
              "    }\n",
              "</style>\n",
              "<table border=\"1\" class=\"dataframe\">\n",
              "  <thead>\n",
              "    <tr style=\"text-align: right;\">\n",
              "      <th></th>\n",
              "      <th>mean</th>\n",
              "      <th>std</th>\n",
              "    </tr>\n",
              "    <tr>\n",
              "      <th>Date</th>\n",
              "      <th></th>\n",
              "      <th></th>\n",
              "    </tr>\n",
              "  </thead>\n",
              "  <tbody>\n",
              "    <tr>\n",
              "      <th>2000-01-03</th>\n",
              "      <td>NaN</td>\n",
              "      <td>NaN</td>\n",
              "    </tr>\n",
              "    <tr>\n",
              "      <th>2000-01-04</th>\n",
              "      <td>NaN</td>\n",
              "      <td>NaN</td>\n",
              "    </tr>\n",
              "    <tr>\n",
              "      <th>2000-01-05</th>\n",
              "      <td>NaN</td>\n",
              "      <td>NaN</td>\n",
              "    </tr>\n",
              "    <tr>\n",
              "      <th>2000-01-06</th>\n",
              "      <td>NaN</td>\n",
              "      <td>NaN</td>\n",
              "    </tr>\n",
              "    <tr>\n",
              "      <th>2000-01-07</th>\n",
              "      <td>NaN</td>\n",
              "      <td>NaN</td>\n",
              "    </tr>\n",
              "    <tr>\n",
              "      <th>...</th>\n",
              "      <td>...</td>\n",
              "      <td>...</td>\n",
              "    </tr>\n",
              "    <tr>\n",
              "      <th>2010-12-23</th>\n",
              "      <td>0.002274</td>\n",
              "      <td>0.008078</td>\n",
              "    </tr>\n",
              "    <tr>\n",
              "      <th>2010-12-27</th>\n",
              "      <td>0.001496</td>\n",
              "      <td>0.007040</td>\n",
              "    </tr>\n",
              "    <tr>\n",
              "      <th>2010-12-28</th>\n",
              "      <td>0.001582</td>\n",
              "      <td>0.007040</td>\n",
              "    </tr>\n",
              "    <tr>\n",
              "      <th>2010-12-29</th>\n",
              "      <td>0.001273</td>\n",
              "      <td>0.006982</td>\n",
              "    </tr>\n",
              "    <tr>\n",
              "      <th>2010-12-30</th>\n",
              "      <td>0.001894</td>\n",
              "      <td>0.005625</td>\n",
              "    </tr>\n",
              "  </tbody>\n",
              "</table>\n",
              "<p>2766 rows × 2 columns</p>\n",
              "</div>"
            ],
            "text/plain": [
              "                mean       std\n",
              "Date                          \n",
              "2000-01-03       NaN       NaN\n",
              "2000-01-04       NaN       NaN\n",
              "2000-01-05       NaN       NaN\n",
              "2000-01-06       NaN       NaN\n",
              "2000-01-07       NaN       NaN\n",
              "...              ...       ...\n",
              "2010-12-23  0.002274  0.008078\n",
              "2010-12-27  0.001496  0.007040\n",
              "2010-12-28  0.001582  0.007040\n",
              "2010-12-29  0.001273  0.006982\n",
              "2010-12-30  0.001894  0.005625\n",
              "\n",
              "[2766 rows x 2 columns]"
            ]
          },
          "metadata": {
            "tags": []
          },
          "execution_count": 8
        }
      ]
    },
    {
      "cell_type": "code",
      "metadata": {
        "colab": {
          "base_uri": "https://localhost:8080/",
          "height": 450
        },
        "id": "xCmquPJ41YSW",
        "outputId": "de244698-0b68-48b5-d4a6-2c12ed89b33c"
      },
      "source": [
        "# joining the rolling metrics to the original data\n",
        "df_outliers = df.join(df_rolling)\n",
        "df_outliers"
      ],
      "execution_count": 9,
      "outputs": [
        {
          "output_type": "execute_result",
          "data": {
            "text/html": [
              "<div>\n",
              "<style scoped>\n",
              "    .dataframe tbody tr th:only-of-type {\n",
              "        vertical-align: middle;\n",
              "    }\n",
              "\n",
              "    .dataframe tbody tr th {\n",
              "        vertical-align: top;\n",
              "    }\n",
              "\n",
              "    .dataframe thead th {\n",
              "        text-align: right;\n",
              "    }\n",
              "</style>\n",
              "<table border=\"1\" class=\"dataframe\">\n",
              "  <thead>\n",
              "    <tr style=\"text-align: right;\">\n",
              "      <th></th>\n",
              "      <th>adj_close</th>\n",
              "      <th>simple_rtn</th>\n",
              "      <th>mean</th>\n",
              "      <th>std</th>\n",
              "    </tr>\n",
              "    <tr>\n",
              "      <th>Date</th>\n",
              "      <th></th>\n",
              "      <th></th>\n",
              "      <th></th>\n",
              "      <th></th>\n",
              "    </tr>\n",
              "  </thead>\n",
              "  <tbody>\n",
              "    <tr>\n",
              "      <th>2000-01-03</th>\n",
              "      <td>0.859423</td>\n",
              "      <td>NaN</td>\n",
              "      <td>NaN</td>\n",
              "      <td>NaN</td>\n",
              "    </tr>\n",
              "    <tr>\n",
              "      <th>2000-01-04</th>\n",
              "      <td>0.786965</td>\n",
              "      <td>-0.084310</td>\n",
              "      <td>NaN</td>\n",
              "      <td>NaN</td>\n",
              "    </tr>\n",
              "    <tr>\n",
              "      <th>2000-01-05</th>\n",
              "      <td>0.798481</td>\n",
              "      <td>0.014633</td>\n",
              "      <td>NaN</td>\n",
              "      <td>NaN</td>\n",
              "    </tr>\n",
              "    <tr>\n",
              "      <th>2000-01-06</th>\n",
              "      <td>0.729382</td>\n",
              "      <td>-0.086538</td>\n",
              "      <td>NaN</td>\n",
              "      <td>NaN</td>\n",
              "    </tr>\n",
              "    <tr>\n",
              "      <th>2000-01-07</th>\n",
              "      <td>0.763932</td>\n",
              "      <td>0.047369</td>\n",
              "      <td>NaN</td>\n",
              "      <td>NaN</td>\n",
              "    </tr>\n",
              "    <tr>\n",
              "      <th>...</th>\n",
              "      <td>...</td>\n",
              "      <td>...</td>\n",
              "      <td>...</td>\n",
              "      <td>...</td>\n",
              "    </tr>\n",
              "    <tr>\n",
              "      <th>2010-12-23</th>\n",
              "      <td>9.938018</td>\n",
              "      <td>-0.004798</td>\n",
              "      <td>0.002274</td>\n",
              "      <td>0.008078</td>\n",
              "    </tr>\n",
              "    <tr>\n",
              "      <th>2010-12-27</th>\n",
              "      <td>9.971185</td>\n",
              "      <td>0.003337</td>\n",
              "      <td>0.001496</td>\n",
              "      <td>0.007040</td>\n",
              "    </tr>\n",
              "    <tr>\n",
              "      <th>2010-12-28</th>\n",
              "      <td>9.995453</td>\n",
              "      <td>0.002434</td>\n",
              "      <td>0.001582</td>\n",
              "      <td>0.007040</td>\n",
              "    </tr>\n",
              "    <tr>\n",
              "      <th>2010-12-29</th>\n",
              "      <td>9.989920</td>\n",
              "      <td>-0.000554</td>\n",
              "      <td>0.001273</td>\n",
              "      <td>0.006982</td>\n",
              "    </tr>\n",
              "    <tr>\n",
              "      <th>2010-12-30</th>\n",
              "      <td>9.939864</td>\n",
              "      <td>-0.005011</td>\n",
              "      <td>0.001894</td>\n",
              "      <td>0.005625</td>\n",
              "    </tr>\n",
              "  </tbody>\n",
              "</table>\n",
              "<p>2766 rows × 4 columns</p>\n",
              "</div>"
            ],
            "text/plain": [
              "            adj_close  simple_rtn      mean       std\n",
              "Date                                                 \n",
              "2000-01-03   0.859423         NaN       NaN       NaN\n",
              "2000-01-04   0.786965   -0.084310       NaN       NaN\n",
              "2000-01-05   0.798481    0.014633       NaN       NaN\n",
              "2000-01-06   0.729382   -0.086538       NaN       NaN\n",
              "2000-01-07   0.763932    0.047369       NaN       NaN\n",
              "...               ...         ...       ...       ...\n",
              "2010-12-23   9.938018   -0.004798  0.002274  0.008078\n",
              "2010-12-27   9.971185    0.003337  0.001496  0.007040\n",
              "2010-12-28   9.995453    0.002434  0.001582  0.007040\n",
              "2010-12-29   9.989920   -0.000554  0.001273  0.006982\n",
              "2010-12-30   9.939864   -0.005011  0.001894  0.005625\n",
              "\n",
              "[2766 rows x 4 columns]"
            ]
          },
          "metadata": {
            "tags": []
          },
          "execution_count": 9
        }
      ]
    },
    {
      "cell_type": "code",
      "metadata": {
        "id": "1xJ_GvzC1xae"
      },
      "source": [
        "# define a function for detecting outliers\n",
        "def identify_outliers(row, n_sigma=3):\n",
        "  '''\n",
        "  Function for identifying the outliers using 3 sigma rules.\n",
        "  The row must contain the following columns/indices: simple_rtn, mean, std.\n",
        "\n",
        "  Parameters\n",
        "  ----------\n",
        "  row : pd.Series\n",
        "  A row of pd.DataFrame, over which the function can be applied.\n",
        "  n_sigma : int\n",
        "  The number of standard deviation above/below the mean - used for detecting outliers\n",
        "\n",
        "  Return\n",
        "  ------\n",
        "  0/1 : int\n",
        "  An integer with 1 indicating an outlier and 0 otherwise.\n",
        "  '''\n",
        "  x = row['simple_rtn']\n",
        "  mu = row['mean']\n",
        "  sigma = row['std']\n",
        "\n",
        "  if (x > mu + 3 * sigma) | (x < mu - 3 *sigma):\n",
        "    return 1\n",
        "  else:\n",
        "    return 0"
      ],
      "execution_count": 10,
      "outputs": []
    },
    {
      "cell_type": "code",
      "metadata": {
        "colab": {
          "base_uri": "https://localhost:8080/",
          "height": 235
        },
        "id": "IrEYdYGW3zGT",
        "outputId": "4f0ede70-872b-4671-d330-a6adb1154203"
      },
      "source": [
        "# identify the outliers and extract their values for later use\n",
        "df_outliers['outlier'] = df_outliers.apply(identify_outliers, axis=1)\n",
        "\n",
        "df_outliers.head()"
      ],
      "execution_count": 14,
      "outputs": [
        {
          "output_type": "execute_result",
          "data": {
            "text/html": [
              "<div>\n",
              "<style scoped>\n",
              "    .dataframe tbody tr th:only-of-type {\n",
              "        vertical-align: middle;\n",
              "    }\n",
              "\n",
              "    .dataframe tbody tr th {\n",
              "        vertical-align: top;\n",
              "    }\n",
              "\n",
              "    .dataframe thead th {\n",
              "        text-align: right;\n",
              "    }\n",
              "</style>\n",
              "<table border=\"1\" class=\"dataframe\">\n",
              "  <thead>\n",
              "    <tr style=\"text-align: right;\">\n",
              "      <th></th>\n",
              "      <th>adj_close</th>\n",
              "      <th>simple_rtn</th>\n",
              "      <th>mean</th>\n",
              "      <th>std</th>\n",
              "      <th>outlier</th>\n",
              "    </tr>\n",
              "    <tr>\n",
              "      <th>Date</th>\n",
              "      <th></th>\n",
              "      <th></th>\n",
              "      <th></th>\n",
              "      <th></th>\n",
              "      <th></th>\n",
              "    </tr>\n",
              "  </thead>\n",
              "  <tbody>\n",
              "    <tr>\n",
              "      <th>2000-01-03</th>\n",
              "      <td>0.859423</td>\n",
              "      <td>NaN</td>\n",
              "      <td>NaN</td>\n",
              "      <td>NaN</td>\n",
              "      <td>0</td>\n",
              "    </tr>\n",
              "    <tr>\n",
              "      <th>2000-01-04</th>\n",
              "      <td>0.786965</td>\n",
              "      <td>-0.084310</td>\n",
              "      <td>NaN</td>\n",
              "      <td>NaN</td>\n",
              "      <td>0</td>\n",
              "    </tr>\n",
              "    <tr>\n",
              "      <th>2000-01-05</th>\n",
              "      <td>0.798481</td>\n",
              "      <td>0.014633</td>\n",
              "      <td>NaN</td>\n",
              "      <td>NaN</td>\n",
              "      <td>0</td>\n",
              "    </tr>\n",
              "    <tr>\n",
              "      <th>2000-01-06</th>\n",
              "      <td>0.729382</td>\n",
              "      <td>-0.086538</td>\n",
              "      <td>NaN</td>\n",
              "      <td>NaN</td>\n",
              "      <td>0</td>\n",
              "    </tr>\n",
              "    <tr>\n",
              "      <th>2000-01-07</th>\n",
              "      <td>0.763932</td>\n",
              "      <td>0.047369</td>\n",
              "      <td>NaN</td>\n",
              "      <td>NaN</td>\n",
              "      <td>0</td>\n",
              "    </tr>\n",
              "  </tbody>\n",
              "</table>\n",
              "</div>"
            ],
            "text/plain": [
              "            adj_close  simple_rtn  mean  std  outlier\n",
              "Date                                                 \n",
              "2000-01-03   0.859423         NaN   NaN  NaN        0\n",
              "2000-01-04   0.786965   -0.084310   NaN  NaN        0\n",
              "2000-01-05   0.798481    0.014633   NaN  NaN        0\n",
              "2000-01-06   0.729382   -0.086538   NaN  NaN        0\n",
              "2000-01-07   0.763932    0.047369   NaN  NaN        0"
            ]
          },
          "metadata": {
            "tags": []
          },
          "execution_count": 14
        }
      ]
    },
    {
      "cell_type": "code",
      "metadata": {
        "colab": {
          "base_uri": "https://localhost:8080/",
          "height": 607
        },
        "id": "Gtbb9OlS4Kyb",
        "outputId": "540a55f5-e8d8-4d16-a21a-c6b64a1d19e4"
      },
      "source": [
        "outliers = df_outliers.loc[df_outliers['outlier'] ==1, ['simple_rtn']]\n",
        "outliers"
      ],
      "execution_count": 16,
      "outputs": [
        {
          "output_type": "execute_result",
          "data": {
            "text/html": [
              "<div>\n",
              "<style scoped>\n",
              "    .dataframe tbody tr th:only-of-type {\n",
              "        vertical-align: middle;\n",
              "    }\n",
              "\n",
              "    .dataframe tbody tr th {\n",
              "        vertical-align: top;\n",
              "    }\n",
              "\n",
              "    .dataframe thead th {\n",
              "        text-align: right;\n",
              "    }\n",
              "</style>\n",
              "<table border=\"1\" class=\"dataframe\">\n",
              "  <thead>\n",
              "    <tr style=\"text-align: right;\">\n",
              "      <th></th>\n",
              "      <th>simple_rtn</th>\n",
              "    </tr>\n",
              "    <tr>\n",
              "      <th>Date</th>\n",
              "      <th></th>\n",
              "    </tr>\n",
              "  </thead>\n",
              "  <tbody>\n",
              "    <tr>\n",
              "      <th>2000-09-29</th>\n",
              "      <td>-0.518692</td>\n",
              "    </tr>\n",
              "    <tr>\n",
              "      <th>2000-12-06</th>\n",
              "      <td>-0.158088</td>\n",
              "    </tr>\n",
              "    <tr>\n",
              "      <th>2001-07-18</th>\n",
              "      <td>-0.171713</td>\n",
              "    </tr>\n",
              "    <tr>\n",
              "      <th>2002-06-19</th>\n",
              "      <td>-0.150372</td>\n",
              "    </tr>\n",
              "    <tr>\n",
              "      <th>2003-04-11</th>\n",
              "      <td>-0.081420</td>\n",
              "    </tr>\n",
              "    <tr>\n",
              "      <th>2003-05-05</th>\n",
              "      <td>0.113491</td>\n",
              "    </tr>\n",
              "    <tr>\n",
              "      <th>2004-04-15</th>\n",
              "      <td>0.099850</td>\n",
              "    </tr>\n",
              "    <tr>\n",
              "      <th>2004-07-15</th>\n",
              "      <td>0.113253</td>\n",
              "    </tr>\n",
              "    <tr>\n",
              "      <th>2004-10-14</th>\n",
              "      <td>0.131573</td>\n",
              "    </tr>\n",
              "    <tr>\n",
              "      <th>2004-11-22</th>\n",
              "      <td>0.112017</td>\n",
              "    </tr>\n",
              "    <tr>\n",
              "      <th>2005-01-07</th>\n",
              "      <td>0.072811</td>\n",
              "    </tr>\n",
              "    <tr>\n",
              "      <th>2005-04-14</th>\n",
              "      <td>-0.092105</td>\n",
              "    </tr>\n",
              "    <tr>\n",
              "      <th>2006-04-05</th>\n",
              "      <td>0.098741</td>\n",
              "    </tr>\n",
              "    <tr>\n",
              "      <th>2006-07-20</th>\n",
              "      <td>0.118299</td>\n",
              "    </tr>\n",
              "    <tr>\n",
              "      <th>2008-01-04</th>\n",
              "      <td>-0.076335</td>\n",
              "    </tr>\n",
              "    <tr>\n",
              "      <th>2008-09-29</th>\n",
              "      <td>-0.179195</td>\n",
              "    </tr>\n",
              "    <tr>\n",
              "      <th>2010-04-21</th>\n",
              "      <td>0.059814</td>\n",
              "    </tr>\n",
              "  </tbody>\n",
              "</table>\n",
              "</div>"
            ],
            "text/plain": [
              "            simple_rtn\n",
              "Date                  \n",
              "2000-09-29   -0.518692\n",
              "2000-12-06   -0.158088\n",
              "2001-07-18   -0.171713\n",
              "2002-06-19   -0.150372\n",
              "2003-04-11   -0.081420\n",
              "2003-05-05    0.113491\n",
              "2004-04-15    0.099850\n",
              "2004-07-15    0.113253\n",
              "2004-10-14    0.131573\n",
              "2004-11-22    0.112017\n",
              "2005-01-07    0.072811\n",
              "2005-04-14   -0.092105\n",
              "2006-04-05    0.098741\n",
              "2006-07-20    0.118299\n",
              "2008-01-04   -0.076335\n",
              "2008-09-29   -0.179195\n",
              "2010-04-21    0.059814"
            ]
          },
          "metadata": {
            "tags": []
          },
          "execution_count": 16
        }
      ]
    },
    {
      "cell_type": "code",
      "metadata": {
        "colab": {
          "base_uri": "https://localhost:8080/",
          "height": 607
        },
        "id": "XFfPrxxK4jlV",
        "outputId": "1a468f27-f74b-46d3-e920-7388ef3a670a"
      },
      "source": [
        "# plot the result\n",
        "fig, ax = plt.subplots(figsize=(12,10))\n",
        "\n",
        "ax.plot(df_outliers.index, df_outliers.simple_rtn, color='blue', label='Normal')\n",
        "ax.scatter(outliers.index, outliers.simple_rtn, color='red', label='Anomaly')\n",
        "ax.set_title('Apple Stock Return')\n",
        "ax.legend(loc='lower right')\n",
        "\n",
        "plt.show()"
      ],
      "execution_count": 17,
      "outputs": [
        {
          "output_type": "display_data",
          "data": {
            "image/png": "[encoded data removed]",
            "text/plain": [
              "<Figure size 864x720 with 1 Axes>"
            ]
          },
          "metadata": {
            "tags": [],
            "needs_background": "light"
          }
        }
      ]
    },
    {
      "cell_type": "code",
      "metadata": {
        "id": "XEgqNhxU5QZA"
      },
      "source": [
        ""
      ],
      "execution_count": null,
      "outputs": []
    }
  ]
}