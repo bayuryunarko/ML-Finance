{
  "nbformat": 4,
  "nbformat_minor": 0,
  "metadata": {
    "colab": {
      "name": "04MLFinancialAnalysis.ipynb",
      "provenance": [],
      "collapsed_sections": [],
      "authorship_tag": "ABX9TyObc/BWhWSR5HMyU7rain9z",
      "include_colab_link": true
    },
    "kernelspec": {
      "name": "python3",
      "display_name": "Python 3"
    },
    "language_info": {
      "name": "python"
    }
  },
  "cells": [
    {
      "cell_type": "markdown",
      "metadata": {
        "id": "view-in-github",
        "colab_type": "text"
      },
      "source": [
        "<a href=\"https://colab.research.google.com/github/bayuryunarko/ML-in-Financial-Analysis/blob/main/04MLFinancialAnalysis.ipynb\" target=\"_parent\"><img src=\"https://colab.research.google.com/assets/colab-badge.svg\" alt=\"Open In Colab\"/></a>"
      ]
    },
    {
      "cell_type": "markdown",
      "metadata": {
        "id": "lpzU7MDQ79tK"
      },
      "source": [
        "# Investigating Stylized Facts of asset returns"
      ]
    },
    {
      "cell_type": "code",
      "metadata": {
        "id": "07B8uWywIRqB"
      },
      "source": [
        "pip install yfinance"
      ],
      "execution_count": null,
      "outputs": []
    },
    {
      "cell_type": "code",
      "metadata": {
        "id": "QlsrseEUHuV9"
      },
      "source": [
        "# import lib\n",
        "import pandas as pd\n",
        "import numpy as np\n",
        "import yfinance as yf\n",
        "import seaborn as sns\n",
        "import scipy.stats as scs\n",
        "import statsmodels.api as sm\n",
        "import statsmodels.tsa.api as smt\n",
        "import matplotlib.pyplot as plt"
      ],
      "execution_count": 2,
      "outputs": []
    },
    {
      "cell_type": "code",
      "metadata": {
        "id": "15mCm90J0bYe",
        "colab": {
          "base_uri": "https://localhost:8080/",
          "height": 235
        },
        "outputId": "01d2d26b-0e6c-4650-d00e-99bae0a3cb72"
      },
      "source": [
        "# download data\n",
        "df = yf.download('^GSPC', \n",
        "                       start= '1985-01-01',\n",
        "                       end = '2018-12-31',\n",
        "                       progress= False)\n",
        "df.head()"
      ],
      "execution_count": 4,
      "outputs": [
        {
          "output_type": "execute_result",
          "data": {
            "text/html": [
              "<div>\n",
              "<style scoped>\n",
              "    .dataframe tbody tr th:only-of-type {\n",
              "        vertical-align: middle;\n",
              "    }\n",
              "\n",
              "    .dataframe tbody tr th {\n",
              "        vertical-align: top;\n",
              "    }\n",
              "\n",
              "    .dataframe thead th {\n",
              "        text-align: right;\n",
              "    }\n",
              "</style>\n",
              "<table border=\"1\" class=\"dataframe\">\n",
              "  <thead>\n",
              "    <tr style=\"text-align: right;\">\n",
              "      <th></th>\n",
              "      <th>Open</th>\n",
              "      <th>High</th>\n",
              "      <th>Low</th>\n",
              "      <th>Close</th>\n",
              "      <th>Adj Close</th>\n",
              "      <th>Volume</th>\n",
              "    </tr>\n",
              "    <tr>\n",
              "      <th>Date</th>\n",
              "      <th></th>\n",
              "      <th></th>\n",
              "      <th></th>\n",
              "      <th></th>\n",
              "      <th></th>\n",
              "      <th></th>\n",
              "    </tr>\n",
              "  </thead>\n",
              "  <tbody>\n",
              "    <tr>\n",
              "      <th>1985-01-02</th>\n",
              "      <td>167.199997</td>\n",
              "      <td>167.199997</td>\n",
              "      <td>165.190002</td>\n",
              "      <td>165.369995</td>\n",
              "      <td>165.369995</td>\n",
              "      <td>67820000</td>\n",
              "    </tr>\n",
              "    <tr>\n",
              "      <th>1985-01-03</th>\n",
              "      <td>165.369995</td>\n",
              "      <td>166.110001</td>\n",
              "      <td>164.380005</td>\n",
              "      <td>164.570007</td>\n",
              "      <td>164.570007</td>\n",
              "      <td>88880000</td>\n",
              "    </tr>\n",
              "    <tr>\n",
              "      <th>1985-01-04</th>\n",
              "      <td>164.550003</td>\n",
              "      <td>164.550003</td>\n",
              "      <td>163.360001</td>\n",
              "      <td>163.679993</td>\n",
              "      <td>163.679993</td>\n",
              "      <td>77480000</td>\n",
              "    </tr>\n",
              "    <tr>\n",
              "      <th>1985-01-07</th>\n",
              "      <td>163.679993</td>\n",
              "      <td>164.710007</td>\n",
              "      <td>163.679993</td>\n",
              "      <td>164.240005</td>\n",
              "      <td>164.240005</td>\n",
              "      <td>86190000</td>\n",
              "    </tr>\n",
              "    <tr>\n",
              "      <th>1985-01-08</th>\n",
              "      <td>164.240005</td>\n",
              "      <td>164.589996</td>\n",
              "      <td>163.910004</td>\n",
              "      <td>163.990005</td>\n",
              "      <td>163.990005</td>\n",
              "      <td>92110000</td>\n",
              "    </tr>\n",
              "  </tbody>\n",
              "</table>\n",
              "</div>"
            ],
            "text/plain": [
              "                  Open        High  ...   Adj Close    Volume\n",
              "Date                                ...                      \n",
              "1985-01-02  167.199997  167.199997  ...  165.369995  67820000\n",
              "1985-01-03  165.369995  166.110001  ...  164.570007  88880000\n",
              "1985-01-04  164.550003  164.550003  ...  163.679993  77480000\n",
              "1985-01-07  163.679993  164.710007  ...  164.240005  86190000\n",
              "1985-01-08  164.240005  164.589996  ...  163.990005  92110000\n",
              "\n",
              "[5 rows x 6 columns]"
            ]
          },
          "metadata": {
            "tags": []
          },
          "execution_count": 4
        }
      ]
    },
    {
      "cell_type": "code",
      "metadata": {
        "colab": {
          "base_uri": "https://localhost:8080/",
          "height": 235
        },
        "id": "DNxWOA368suk",
        "outputId": "b7daa611-8877-4b4f-da5c-a1a9afac1011"
      },
      "source": [
        "df = df[['Adj Close']].rename(columns={'Adj Close': 'adj_close'})\n",
        "df['log_rtn'] = np.log(df.adj_close/df.adj_close.shift(1))\n",
        "df = df[['adj_close', 'log_rtn']].dropna(how='any')\n",
        "df.head()"
      ],
      "execution_count": 5,
      "outputs": [
        {
          "output_type": "execute_result",
          "data": {
            "text/html": [
              "<div>\n",
              "<style scoped>\n",
              "    .dataframe tbody tr th:only-of-type {\n",
              "        vertical-align: middle;\n",
              "    }\n",
              "\n",
              "    .dataframe tbody tr th {\n",
              "        vertical-align: top;\n",
              "    }\n",
              "\n",
              "    .dataframe thead th {\n",
              "        text-align: right;\n",
              "    }\n",
              "</style>\n",
              "<table border=\"1\" class=\"dataframe\">\n",
              "  <thead>\n",
              "    <tr style=\"text-align: right;\">\n",
              "      <th></th>\n",
              "      <th>adj_close</th>\n",
              "      <th>log_rtn</th>\n",
              "    </tr>\n",
              "    <tr>\n",
              "      <th>Date</th>\n",
              "      <th></th>\n",
              "      <th></th>\n",
              "    </tr>\n",
              "  </thead>\n",
              "  <tbody>\n",
              "    <tr>\n",
              "      <th>1985-01-03</th>\n",
              "      <td>164.570007</td>\n",
              "      <td>-0.004849</td>\n",
              "    </tr>\n",
              "    <tr>\n",
              "      <th>1985-01-04</th>\n",
              "      <td>163.679993</td>\n",
              "      <td>-0.005423</td>\n",
              "    </tr>\n",
              "    <tr>\n",
              "      <th>1985-01-07</th>\n",
              "      <td>164.240005</td>\n",
              "      <td>0.003416</td>\n",
              "    </tr>\n",
              "    <tr>\n",
              "      <th>1985-01-08</th>\n",
              "      <td>163.990005</td>\n",
              "      <td>-0.001523</td>\n",
              "    </tr>\n",
              "    <tr>\n",
              "      <th>1985-01-09</th>\n",
              "      <td>165.179993</td>\n",
              "      <td>0.007230</td>\n",
              "    </tr>\n",
              "  </tbody>\n",
              "</table>\n",
              "</div>"
            ],
            "text/plain": [
              "             adj_close   log_rtn\n",
              "Date                            \n",
              "1985-01-03  164.570007 -0.004849\n",
              "1985-01-04  163.679993 -0.005423\n",
              "1985-01-07  164.240005  0.003416\n",
              "1985-01-08  163.990005 -0.001523\n",
              "1985-01-09  165.179993  0.007230"
            ]
          },
          "metadata": {
            "tags": []
          },
          "execution_count": 5
        }
      ]
    },
    {
      "cell_type": "markdown",
      "metadata": {
        "id": "GeAcUwin9_bV"
      },
      "source": [
        "## Fact 1 - Non-Gaussian distribution of return"
      ]
    },
    {
      "cell_type": "code",
      "metadata": {
        "id": "Gv2-S_Sq9xoF"
      },
      "source": [
        "# calculate the normal PDF using the mean and standard deviation of the observed returns\n",
        "r_range = np.linspace(min(df.log_rtn), max(df.log_rtn), num=1000)\n",
        "mu = df.log_rtn.mean()\n",
        "sigma = df.log_rtn.std()\n",
        "norm_pdf = scs.norm.pdf(r_range, loc=mu, scale=sigma)"
      ],
      "execution_count": 6,
      "outputs": []
    },
    {
      "cell_type": "code",
      "metadata": {
        "colab": {
          "base_uri": "https://localhost:8080/",
          "height": 570
        },
        "id": "2AgKfTr2-ziQ",
        "outputId": "9dfffc78-8b59-4d11-b525-8e08350c1550"
      },
      "source": [
        "# plot the histogram and the Q-Q plot\n",
        "fig, ax = plt.subplots(1,2, figsize=(16,8))\n",
        "\n",
        "# histogram\n",
        "sns.distplot(df.log_rtn, kde=False, norm_hist=True, ax=ax[0])\n",
        "ax[0].set_title('Distribution of MSFT returns', fontsize=16)\n",
        "ax[0].plot(r_range, norm_pdf, 'g', lw=2, label=f'N({mu: .2f}, {sigma**2: .4f})')\n",
        "ax[0].legend(loc='upper left');\n",
        "\n",
        "# Q-Q plot\n",
        "qq = sm.qqplot(df.log_rtn.values, line='s', ax=ax[1])\n",
        "ax[1].set_title('Q-Q Plot', fontsize=16)\n",
        "\n",
        "plt.show()"
      ],
      "execution_count": 25,
      "outputs": [
        {
          "output_type": "stream",
          "text": [
            "/usr/local/lib/python3.7/dist-packages/seaborn/distributions.py:2557: FutureWarning: `distplot` is a deprecated function and will be removed in a future version. Please adapt your code to use either `displot` (a figure-level function with similar flexibility) or `histplot` (an axes-level function for histograms).\n",
            "  warnings.warn(msg, FutureWarning)\n"
          ],
          "name": "stderr"
        },
        {
          "output_type": "display_data",
          "data": {
            "image/png": "[encoded data removed]",
            "text/plain": [
              "<Figure size 1152x576 with 2 Axes>"
            ]
          },
          "metadata": {
            "tags": [],
            "needs_background": "light"
          }
        }
      ]
    },
    {
      "cell_type": "code",
      "metadata": {
        "colab": {
          "base_uri": "https://localhost:8080/"
        },
        "id": "67ZZHfWUAO-P",
        "outputId": "a943334b-c687-4fab-8f13-e3f42651a581"
      },
      "source": [
        "jb_test = scs.jarque_bera(df.log_rtn.values)\n",
        "\n",
        "# print the summary statistics of the log return\n",
        "print('-------------------Descriptive Statistics--------------------')\n",
        "print('Range of date : ', min(df.index.date), '-', max(df.index.date))\n",
        "print('Number of observations :', df.shape[0])\n",
        "print(f'Mean : {df.log_rtn.mean():.4f}')\n",
        "print(f'Median : {df.log_rtn.median():.4f}')\n",
        "print(f'Min : {df.log_rtn.min():.4f}')\n",
        "print(f'Max : {df.log_rtn.max():.4f}')\n",
        "print(f'Standard deviation : {df.log_rtn.std():.4f}')\n",
        "print(f'Skewness : {df.log_rtn.skew():.4f}')\n",
        "print(f'Kurtosis : {df.log_rtn.kurtosis():.4f}')\n",
        "print(f'Jarque Bera Statistics : {jb_test[0]:.2f} with p-value {jb_test[1]:.2f}')"
      ],
      "execution_count": 23,
      "outputs": [
        {
          "output_type": "stream",
          "text": [
            "-------------------Descriptive Statistics--------------------\n",
            "Range of date :  1985-01-03 - 2018-12-28\n",
            "Number of observations : 8568\n",
            "Mean : 0.0003\n",
            "Median : 0.0006\n",
            "Min : -0.2290\n",
            "Max : 0.1096\n",
            "Standard deviation : 0.0113\n",
            "Skewness : -1.2628\n",
            "Kurtosis : 28.0156\n",
            "Jarque Bera Statistics : 282134.38 with p-value 0.00\n"
          ],
          "name": "stdout"
        }
      ]
    },
    {
      "cell_type": "code",
      "metadata": {
        "id": "XHUKQMB8EAic"
      },
      "source": [
        " "
      ],
      "execution_count": null,
      "outputs": []
    }
  ]
}