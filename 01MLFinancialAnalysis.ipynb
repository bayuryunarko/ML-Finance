{
  "nbformat": 4,
  "nbformat_minor": 0,
  "metadata": {
    "colab": {
      "name": "01MLFinancialAnalysis.ipynb",
      "provenance": [],
      "collapsed_sections": [],
      "authorship_tag": "ABX9TyPGXuFA41kqlbOXH1PGGIgl",
      "include_colab_link": true
    },
    "kernelspec": {
      "name": "python3",
      "display_name": "Python 3"
    },
    "language_info": {
      "name": "python"
    }
  },
  "cells": [
    {
      "cell_type": "markdown",
      "metadata": {
        "id": "view-in-github",
        "colab_type": "text"
      },
      "source": [
        "<a href=\"https://colab.research.google.com/github/bayuryunarko/ML-in-Financial-Analysis/blob/main/01MLFinancialAnalysis.ipynb\" target=\"_parent\"><img src=\"https://colab.research.google.com/assets/colab-badge.svg\" alt=\"Open In Colab\"/></a>"
      ]
    },
    {
      "cell_type": "markdown",
      "metadata": {
        "id": "nR6zwiYKBCId"
      },
      "source": [
        "#Changing Frequency"
      ]
    },
    {
      "cell_type": "code",
      "metadata": {
        "id": "IEACzzDtBWOM"
      },
      "source": [
        "pip install yfinance"
      ],
      "execution_count": null,
      "outputs": []
    },
    {
      "cell_type": "code",
      "metadata": {
        "id": "PGp6xM5S_6Hg"
      },
      "source": [
        "# import lib\n",
        "import pandas as pd\n",
        "import numpy as np\n",
        "import yfinance as yf"
      ],
      "execution_count": 3,
      "outputs": []
    },
    {
      "cell_type": "code",
      "metadata": {
        "id": "xuuOgLstBQna"
      },
      "source": [
        "# download data\n",
        "df = yf.download('AAPL', \n",
        "                       start= '2000-01-01',\n",
        "                       end = '2010-12-31',\n",
        "                       progress= False)"
      ],
      "execution_count": 10,
      "outputs": []
    },
    {
      "cell_type": "code",
      "metadata": {
        "id": "EnmsBTDFBnLi"
      },
      "source": [
        "# keep only the adjusted close price\n",
        "df = df.loc[:, ['Adj Close']]\n",
        "df.rename(columns={'Adj Close':'adj_close'}, inplace=True)"
      ],
      "execution_count": 11,
      "outputs": []
    },
    {
      "cell_type": "code",
      "metadata": {
        "id": "eSVAzKzpBsRx"
      },
      "source": [
        "# calculate simple return\n",
        "df['log_rtn'] = np.log(df.adj_close/df.adj_close.shift(1))"
      ],
      "execution_count": 12,
      "outputs": []
    },
    {
      "cell_type": "code",
      "metadata": {
        "id": "YXjq4ZSbB9zs"
      },
      "source": [
        "# remove redundant data\n",
        "df.drop('adj_close', axis=1, inplace=True)\n",
        "df.dropna(axis=0, inplace=True)"
      ],
      "execution_count": 13,
      "outputs": []
    },
    {
      "cell_type": "code",
      "metadata": {
        "colab": {
          "base_uri": "https://localhost:8080/",
          "height": 235
        },
        "id": "wAzylr3VCQDD",
        "outputId": "a9481310-8225-44ab-cab9-936513e5116c"
      },
      "source": [
        "df.head()"
      ],
      "execution_count": 14,
      "outputs": [
        {
          "output_type": "execute_result",
          "data": {
            "text/html": [
              "<div>\n",
              "<style scoped>\n",
              "    .dataframe tbody tr th:only-of-type {\n",
              "        vertical-align: middle;\n",
              "    }\n",
              "\n",
              "    .dataframe tbody tr th {\n",
              "        vertical-align: top;\n",
              "    }\n",
              "\n",
              "    .dataframe thead th {\n",
              "        text-align: right;\n",
              "    }\n",
              "</style>\n",
              "<table border=\"1\" class=\"dataframe\">\n",
              "  <thead>\n",
              "    <tr style=\"text-align: right;\">\n",
              "      <th></th>\n",
              "      <th>log_rtn</th>\n",
              "    </tr>\n",
              "    <tr>\n",
              "      <th>Date</th>\n",
              "      <th></th>\n",
              "    </tr>\n",
              "  </thead>\n",
              "  <tbody>\n",
              "    <tr>\n",
              "      <th>2000-01-04</th>\n",
              "      <td>-0.088077</td>\n",
              "    </tr>\n",
              "    <tr>\n",
              "      <th>2000-01-05</th>\n",
              "      <td>0.014527</td>\n",
              "    </tr>\n",
              "    <tr>\n",
              "      <th>2000-01-06</th>\n",
              "      <td>-0.090514</td>\n",
              "    </tr>\n",
              "    <tr>\n",
              "      <th>2000-01-07</th>\n",
              "      <td>0.046281</td>\n",
              "    </tr>\n",
              "    <tr>\n",
              "      <th>2000-01-10</th>\n",
              "      <td>-0.017744</td>\n",
              "    </tr>\n",
              "  </tbody>\n",
              "</table>\n",
              "</div>"
            ],
            "text/plain": [
              "             log_rtn\n",
              "Date                \n",
              "2000-01-04 -0.088077\n",
              "2000-01-05  0.014527\n",
              "2000-01-06 -0.090514\n",
              "2000-01-07  0.046281\n",
              "2000-01-10 -0.017744"
            ]
          },
          "metadata": {
            "tags": []
          },
          "execution_count": 14
        }
      ]
    },
    {
      "cell_type": "code",
      "metadata": {
        "id": "k5FhuOZ3CXcF"
      },
      "source": [
        "# define the function for calculating the realized volatility\n",
        "def realized_volatility(x):\n",
        "  return np.sqrt(np.sum(x**2))"
      ],
      "execution_count": 15,
      "outputs": []
    },
    {
      "cell_type": "code",
      "metadata": {
        "id": "X6GJOmoHDDc7"
      },
      "source": [
        "# calculate monthly realized volatility\n",
        "df_rv = df.groupby(pd.Grouper(freq='M')).apply(realized_volatility)\n",
        "df_rv.rename(columns={'log_rtn':'rv'}, inplace=True)\n"
      ],
      "execution_count": 16,
      "outputs": []
    },
    {
      "cell_type": "code",
      "metadata": {
        "colab": {
          "base_uri": "https://localhost:8080/",
          "height": 450
        },
        "id": "XklJ4r7pD4Yr",
        "outputId": "771c7783-4aff-43b6-8d31-efc3d0994f46"
      },
      "source": [
        "df_rv"
      ],
      "execution_count": 18,
      "outputs": [
        {
          "output_type": "execute_result",
          "data": {
            "text/html": [
              "<div>\n",
              "<style scoped>\n",
              "    .dataframe tbody tr th:only-of-type {\n",
              "        vertical-align: middle;\n",
              "    }\n",
              "\n",
              "    .dataframe tbody tr th {\n",
              "        vertical-align: top;\n",
              "    }\n",
              "\n",
              "    .dataframe thead th {\n",
              "        text-align: right;\n",
              "    }\n",
              "</style>\n",
              "<table border=\"1\" class=\"dataframe\">\n",
              "  <thead>\n",
              "    <tr style=\"text-align: right;\">\n",
              "      <th></th>\n",
              "      <th>rv</th>\n",
              "    </tr>\n",
              "    <tr>\n",
              "      <th>Date</th>\n",
              "      <th></th>\n",
              "    </tr>\n",
              "  </thead>\n",
              "  <tbody>\n",
              "    <tr>\n",
              "      <th>2000-01-31</th>\n",
              "      <td>0.818381</td>\n",
              "    </tr>\n",
              "    <tr>\n",
              "      <th>2000-02-29</th>\n",
              "      <td>0.512134</td>\n",
              "    </tr>\n",
              "    <tr>\n",
              "      <th>2000-03-31</th>\n",
              "      <td>0.843827</td>\n",
              "    </tr>\n",
              "    <tr>\n",
              "      <th>2000-04-30</th>\n",
              "      <td>0.736166</td>\n",
              "    </tr>\n",
              "    <tr>\n",
              "      <th>2000-05-31</th>\n",
              "      <td>0.640823</td>\n",
              "    </tr>\n",
              "    <tr>\n",
              "      <th>...</th>\n",
              "      <td>...</td>\n",
              "    </tr>\n",
              "    <tr>\n",
              "      <th>2010-08-31</th>\n",
              "      <td>0.208900</td>\n",
              "    </tr>\n",
              "    <tr>\n",
              "      <th>2010-09-30</th>\n",
              "      <td>0.228468</td>\n",
              "    </tr>\n",
              "    <tr>\n",
              "      <th>2010-10-31</th>\n",
              "      <td>0.241163</td>\n",
              "    </tr>\n",
              "    <tr>\n",
              "      <th>2010-11-30</th>\n",
              "      <td>0.224919</td>\n",
              "    </tr>\n",
              "    <tr>\n",
              "      <th>2010-12-31</th>\n",
              "      <td>0.091787</td>\n",
              "    </tr>\n",
              "  </tbody>\n",
              "</table>\n",
              "<p>132 rows × 1 columns</p>\n",
              "</div>"
            ],
            "text/plain": [
              "                  rv\n",
              "Date                \n",
              "2000-01-31  0.818381\n",
              "2000-02-29  0.512134\n",
              "2000-03-31  0.843827\n",
              "2000-04-30  0.736166\n",
              "2000-05-31  0.640823\n",
              "...              ...\n",
              "2010-08-31  0.208900\n",
              "2010-09-30  0.228468\n",
              "2010-10-31  0.241163\n",
              "2010-11-30  0.224919\n",
              "2010-12-31  0.091787\n",
              "\n",
              "[132 rows x 1 columns]"
            ]
          },
          "metadata": {
            "tags": []
          },
          "execution_count": 18
        }
      ]
    },
    {
      "cell_type": "code",
      "metadata": {
        "colab": {
          "base_uri": "https://localhost:8080/",
          "height": 450
        },
        "id": "1Pib5lksDm86",
        "outputId": "67b9ad89-a926-40b2-dea4-ff939ccddeb8"
      },
      "source": [
        "# Annualize the values:\n",
        "df_rv.rv = df_rv.rv * np.sqrt(12)\n",
        "df_rv"
      ],
      "execution_count": 19,
      "outputs": [
        {
          "output_type": "execute_result",
          "data": {
            "text/html": [
              "<div>\n",
              "<style scoped>\n",
              "    .dataframe tbody tr th:only-of-type {\n",
              "        vertical-align: middle;\n",
              "    }\n",
              "\n",
              "    .dataframe tbody tr th {\n",
              "        vertical-align: top;\n",
              "    }\n",
              "\n",
              "    .dataframe thead th {\n",
              "        text-align: right;\n",
              "    }\n",
              "</style>\n",
              "<table border=\"1\" class=\"dataframe\">\n",
              "  <thead>\n",
              "    <tr style=\"text-align: right;\">\n",
              "      <th></th>\n",
              "      <th>rv</th>\n",
              "    </tr>\n",
              "    <tr>\n",
              "      <th>Date</th>\n",
              "      <th></th>\n",
              "    </tr>\n",
              "  </thead>\n",
              "  <tbody>\n",
              "    <tr>\n",
              "      <th>2000-01-31</th>\n",
              "      <td>2.834955</td>\n",
              "    </tr>\n",
              "    <tr>\n",
              "      <th>2000-02-29</th>\n",
              "      <td>1.774084</td>\n",
              "    </tr>\n",
              "    <tr>\n",
              "      <th>2000-03-31</th>\n",
              "      <td>2.923102</td>\n",
              "    </tr>\n",
              "    <tr>\n",
              "      <th>2000-04-30</th>\n",
              "      <td>2.550154</td>\n",
              "    </tr>\n",
              "    <tr>\n",
              "      <th>2000-05-31</th>\n",
              "      <td>2.219877</td>\n",
              "    </tr>\n",
              "    <tr>\n",
              "      <th>...</th>\n",
              "      <td>...</td>\n",
              "    </tr>\n",
              "    <tr>\n",
              "      <th>2010-08-31</th>\n",
              "      <td>0.723652</td>\n",
              "    </tr>\n",
              "    <tr>\n",
              "      <th>2010-09-30</th>\n",
              "      <td>0.791435</td>\n",
              "    </tr>\n",
              "    <tr>\n",
              "      <th>2010-10-31</th>\n",
              "      <td>0.835413</td>\n",
              "    </tr>\n",
              "    <tr>\n",
              "      <th>2010-11-30</th>\n",
              "      <td>0.779142</td>\n",
              "    </tr>\n",
              "    <tr>\n",
              "      <th>2010-12-31</th>\n",
              "      <td>0.317960</td>\n",
              "    </tr>\n",
              "  </tbody>\n",
              "</table>\n",
              "<p>132 rows × 1 columns</p>\n",
              "</div>"
            ],
            "text/plain": [
              "                  rv\n",
              "Date                \n",
              "2000-01-31  2.834955\n",
              "2000-02-29  1.774084\n",
              "2000-03-31  2.923102\n",
              "2000-04-30  2.550154\n",
              "2000-05-31  2.219877\n",
              "...              ...\n",
              "2010-08-31  0.723652\n",
              "2010-09-30  0.791435\n",
              "2010-10-31  0.835413\n",
              "2010-11-30  0.779142\n",
              "2010-12-31  0.317960\n",
              "\n",
              "[132 rows x 1 columns]"
            ]
          },
          "metadata": {
            "tags": []
          },
          "execution_count": 19
        }
      ]
    },
    {
      "cell_type": "code",
      "metadata": {
        "colab": {
          "base_uri": "https://localhost:8080/",
          "height": 592
        },
        "id": "BoDw1pexD3Hd",
        "outputId": "4294dba4-4b08-4119-d7b7-f57dab2c8334"
      },
      "source": [
        "# plot result \n",
        "import matplotlib.pyplot as plt\n",
        "\n",
        "fig, ax = plt.subplots(2, 1, sharex=True, figsize=(10,10))\n",
        "ax[0].plot(df)\n",
        "ax[1].plot(df_rv)\n",
        "\n",
        "# plt.tight_layout()\n",
        "plt.show()"
      ],
      "execution_count": 21,
      "outputs": [
        {
          "output_type": "display_data",
          "data": {
            "image/png": "[encoded data removed]",
            "text/plain": [
              "<Figure size 720x720 with 2 Axes>"
            ]
          },
          "metadata": {
            "tags": [],
            "needs_background": "light"
          }
        }
      ]
    },
    {
      "cell_type": "code",
      "metadata": {
        "id": "c5FBNMxhEgE0"
      },
      "source": [
        ""
      ],
      "execution_count": null,
      "outputs": []
    }
  ]
}